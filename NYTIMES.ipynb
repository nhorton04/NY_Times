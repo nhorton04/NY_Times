{
 "cells": [
  {
   "cell_type": "code",
   "execution_count": 1,
   "metadata": {},
   "outputs": [],
   "source": [
    "# To store data\n",
    "import pandas as pd\n",
    "\n",
    "# To do linear algebra\n",
    "import numpy as np\n",
    "\n",
    "# To create models\n",
    "from sklearn.decomposition import LatentDirichletAllocation\n",
    "from gensim.models.ldamulticore import LdaMulticore\n",
    "from gensim.models import LdaModel, CoherenceModel\n",
    "from gensim import corpora\n",
    "\n",
    "# To search directories\n",
    "import os\n",
    "\n",
    "# To use regex\n",
    "import re\n",
    "\n",
    "# To get punctuation\n",
    "import string\n",
    "\n",
    "# To parse html\n",
    "from bs4 import BeautifulSoup\n",
    "\n",
    "# To get progression bars\n",
    "from tqdm import tqdm\n",
    "\n",
    "# To measure time\n",
    "from time import time\n",
    "\n",
    "# To get simple counters\n",
    "from collections import Counter\n",
    "\n",
    "# To process natural language\n",
    "from nltk.corpus import stopwords\n",
    "from nltk.tokenize import RegexpTokenizer\n",
    "\n",
    "import nltk\n",
    "\n",
    "# To use sparse matrices\n",
    "from scipy.sparse import csr_matrix\n",
    "\n",
    "# To create plots\n",
    "import matplotlib.pyplot as plt"
   ]
  },
  {
   "cell_type": "code",
   "execution_count": 2,
   "metadata": {},
   "outputs": [
    {
     "data": {
      "text/plain": [
       "1214"
      ]
     },
     "execution_count": 2,
     "metadata": {},
     "output_type": "execute_result"
    }
   ],
   "source": [
    "curr_dir = '/home/nick/Documents/NYT/'\n",
    "all_headlines = []\n",
    "for filename in os.listdir('/home/nick/Documents/NYT/'):\n",
    "    if 'Articles' in filename:\n",
    "        article_df = pd.read_csv(curr_dir + filename)\n",
    "        all_headlines.extend(list(article_df.headline.values))\n",
    "        break\n",
    "\n",
    "all_headlines = [h for h in all_headlines if h != \"Unknown\"]\n",
    "len(all_headlines)"
   ]
  },
  {
   "cell_type": "code",
   "execution_count": 3,
   "metadata": {},
   "outputs": [
    {
     "name": "stdout",
     "output_type": "stream",
     "text": [
      "Loaded Comments: 243832\n"
     ]
    }
   ],
   "source": [
    "# Path to the data\n",
    "path = '/home/nick/Documents/NYT/'\n",
    "\n",
    "# Create file lists\n",
    "files_comments = [os.path.join(path, file) for file in os.listdir(path) if file.startswith('C')]\n",
    "files_articles = [os.path.join(path, file) for file in os.listdir(path) if file.startswith('A')]\n",
    "\n",
    "# Load data\n",
    "comments = []\n",
    "for file in files_comments[:1]:\n",
    "    comments.extend(pd.read_csv(file, low_memory=False)['commentBody'].dropna().values)\n",
    "    \n",
    "print('Loaded Comments: {}'.format(len(comments)))"
   ]
  },
  {
   "cell_type": "code",
   "execution_count": 4,
   "metadata": {},
   "outputs": [
    {
     "name": "stdout",
     "output_type": "stream",
     "text": [
      "showing info https://raw.githubusercontent.com/nltk/nltk_data/gh-pages/index.xml\n"
     ]
    },
    {
     "name": "stderr",
     "output_type": "stream",
     "text": [
      "100%|██████████| 5000/5000 [00:01<00:00, 3846.09it/s]\n"
     ]
    },
    {
     "name": "stdout",
     "output_type": "stream",
     "text": [
      "Unique Words In Comments: 22077\n",
      "Documents/Comments: 5000\n",
      "Train Shape:\t(5000, 5081)\n"
     ]
    }
   ],
   "source": [
    "nltk.download()\n",
    "\n",
    "# Number of comments to use in the LDA\n",
    "n = 5000\n",
    "\n",
    "# To remove punctuation\n",
    "re_punctuation = re.compile('['+string.punctuation+']')\n",
    "\n",
    "# To tokenize the comments\n",
    "tokenizer = RegexpTokenizer('\\w+')\n",
    "\n",
    "# Get stopwords\n",
    "stop = stopwords.words('english')\n",
    "\n",
    "\n",
    "# Iterate over all comments\n",
    "preprocessed_comments = []\n",
    "for comment in tqdm(np.random.choice(comments, n)):\n",
    "    # Remove html\n",
    "    comment = BeautifulSoup(comment, 'lxml').get_text().lower()\n",
    "    \n",
    "    # Remove punctuation\n",
    "    comment = re_punctuation.sub(' ', comment)\n",
    "    \n",
    "    # Tokenize comments\n",
    "    comment = tokenizer.tokenize(comment)\n",
    "    \n",
    "    # Remove stopwords\n",
    "    comment = [word for word in comment if word not in stop]\n",
    "    preprocessed_comments.append(comment)\n",
    "    \n",
    "    \n",
    "# Count overall word frequency\n",
    "wordFrequency = Counter()\n",
    "for comment in preprocessed_comments:\n",
    "    wordFrequency.update(comment)\n",
    "print('Unique Words In Comments: {}'.format(len(wordFrequency)))\n",
    "\n",
    "\n",
    "# Remove rare words\n",
    "minimumWordOccurrences = 5\n",
    "texts = [[word for word in comment if wordFrequency[word] > minimumWordOccurrences] for comment in preprocessed_comments]\n",
    "\n",
    "\n",
    "# Create word dictionary\n",
    "dictionary = corpora.Dictionary(texts)\n",
    "vocabulary = [dictionary[i] for i in dictionary.keys()]\n",
    "print('Documents/Comments: {}'.format(len(texts)))\n",
    "\n",
    "\n",
    "# Create corpus\n",
    "corpus = [dictionary.doc2bow(doc) for doc in texts]\n",
    "\n",
    "\n",
    "# Create sparse matrix\n",
    "def makesparse(mycorpus, ncolumns):\n",
    "    data, row, col = [], [], []\n",
    "    for cc, doc in enumerate(mycorpus):\n",
    "        for word in doc:\n",
    "            row.append(cc)\n",
    "            col.append(word[0])\n",
    "            data.append(word[1])\n",
    "    X = csr_matrix((np.array(data), (np.array(row), np.array(col))), shape=(cc+1, ncolumns))\n",
    "    return X\n",
    "\n",
    "\n",
    "# Create sparse matrix\n",
    "X = makesparse(corpus, len(dictionary))\n",
    "print('Train Shape:\\t{}'.format(X.shape))"
   ]
  },
  {
   "cell_type": "code",
   "execution_count": 5,
   "metadata": {},
   "outputs": [
    {
     "name": "stdout",
     "output_type": "stream",
     "text": [
      "Number of topics:\t20\n"
     ]
    }
   ],
   "source": [
    "# Set topic number\n",
    "numberTopics = 20\n",
    "print('Number of topics:\\t{}'.format(numberTopics))"
   ]
  },
  {
   "cell_type": "markdown",
   "metadata": {},
   "source": [
    "### Sklearn LDA"
   ]
  },
  {
   "cell_type": "code",
   "execution_count": null,
   "metadata": {},
   "outputs": [
    {
     "name": "stderr",
     "output_type": "stream",
     "text": [
      "  6%|▌         | 6/100 [00:34<09:07,  5.83s/it]"
     ]
    }
   ],
   "source": [
    "# Create the model\n",
    "model_sklearn = LatentDirichletAllocation(n_components=numberTopics, \n",
    "                                          learning_method='online',\n",
    "                                          n_jobs=16,\n",
    "                                          max_iter = 1,\n",
    "                                          total_samples = 10000,\n",
    "                                          batch_size = 20)\n",
    "\n",
    "perplexity_sklearn = []\n",
    "timestamps_sklearn = []\n",
    "start = time()\n",
    "for _ in tqdm(range(100)):\n",
    "    model_sklearn.partial_fit(X)\n",
    "    # Append the models metric\n",
    "    perplexity_sklearn.append(model_sklearn.perplexity(X))\n",
    "    timestamps_sklearn.append(time()-start)\n",
    "    \n",
    "# Plot the topics\n",
    "for i, topic in enumerate(model_sklearn.components_.argsort(axis=1)[:, -10:][:, ::-1], 1):\n",
    "    print('Topic {}: {}'.format(i, ' '.join([vocabulary[id] for id in topic])))"
   ]
  },
  {
   "cell_type": "markdown",
   "metadata": {},
   "source": [
    "### Gensim LDA"
   ]
  },
  {
   "cell_type": "code",
   "execution_count": 8,
   "metadata": {},
   "outputs": [
    {
     "name": "stderr",
     "output_type": "stream",
     "text": [
      "100%|██████████| 100/100 [02:32<00:00,  1.52s/it]"
     ]
    },
    {
     "name": "stdout",
     "output_type": "stream",
     "text": [
      "Topic 1: like would day great really going years one someone understand\n",
      "Topic 2: like man see one people trump made ever president hope\n",
      "Topic 3: united flight speech passenger airlines would airline passengers states free\n",
      "Topic 4: like people white please see news country many black looks\n",
      "Topic 5: one people person death man also like never think study\n",
      "Topic 6: trump president republicans democrats party obama republican court house vote\n",
      "Topic 7: mr good children us people reading little one government article\n",
      "Topic 8: women would election trump men choice one clinton many win\n",
      "Topic 9: war right us america world americans left like country countries\n",
      "Topic 10: change read climate people could many life one article would\n",
      "Topic 11: like year time much get one old would money bill\n",
      "Topic 12: work school working high kids class students would college education\n",
      "Topic 13: trump assad russia syria putin president would media us attack\n",
      "Topic 14: tax care people health taxes insurance pay income healthcare money\n",
      "Topic 15: people american us trump always jobs good going like use\n",
      "Topic 16: many trump people thought even like us think one thank\n",
      "Topic 17: korea north china state take nuclear world country power us\n",
      "Topic 18: would trump people lot works believe get actually know days\n",
      "Topic 19: people even law would laws money trump really way long\n",
      "Topic 20: new com www nytimes love 2017 https girl york life\n"
     ]
    },
    {
     "name": "stderr",
     "output_type": "stream",
     "text": [
      "\n"
     ]
    }
   ],
   "source": [
    "# Create the model\n",
    "model_gensim = LdaMulticore(num_topics=numberTopics,\n",
    "                        id2word=dictionary,\n",
    "                        iterations=10,\n",
    "                        passes=1,\n",
    "                        chunksize=50,\n",
    "                        eta='auto',\n",
    "                        workers=7)\n",
    "\n",
    "\n",
    "perplexity_gensim = []\n",
    "timestamps_gensim = []\n",
    "start = time()\n",
    "for _ in tqdm(range(100)):\n",
    "    # Online update of the model\n",
    "    model_gensim.update(corpus)\n",
    "    # To compare sklearn and gensim the perplexity has to be transformed by np.exp(-1*x)\n",
    "    perplexity_gensim.append(np.exp(-1 * model_gensim.log_perplexity(corpus)))\n",
    "    timestamps_gensim.append(time() - start)\n",
    "    \n",
    "    \n",
    "    \n",
    "# Plot the topics\n",
    "for i, topic in enumerate(model_gensim.get_topics().argsort(axis=1)[:, -10:][:, ::-1], 1):\n",
    "    print('Topic {}: {}'.format(i, ' '.join([vocabulary[id] for id in topic])))"
   ]
  },
  {
   "cell_type": "code",
   "execution_count": 10,
   "metadata": {},
   "outputs": [
    {
     "data": {
      "image/png": "[encoded data removed]",
      "text/plain": [
       "<Figure size 1080x576 with 1 Axes>"
      ]
     },
     "metadata": {
      "needs_background": "light"
     },
     "output_type": "display_data"
    }
   ],
   "source": [
    "plt.figure(figsize=(15,8))\n",
    "# plt.plot(timestamps_sklearn, perplexity_sklearn, '-o', label='sklearn', c='g')\n",
    "plt.plot(timestamps_gensim, perplexity_gensim, '-o', label='gensim', c='b')\n",
    "plt.title('Perplexity sklearn & gensim')\n",
    "plt.xlabel('Duration [s]')\n",
    "plt.ylabel('Perplexity')\n",
    "plt.legend()\n",
    "plt.show()"
   ]
  },
  {
   "cell_type": "code",
   "execution_count": null,
   "metadata": {},
   "outputs": [],
   "source": []
  },
  {
   "cell_type": "markdown",
   "metadata": {},
   "source": [
    "\\* Note: I got this code from https://www.kaggle.com/morrisb/compare-lda-topic-modeling-in-sklearn-and-gensim"
   ]
  }
 ],
 "metadata": {
  "kernelspec": {
   "display_name": "Python 3",
   "language": "python",
   "name": "python3"
  },
  "language_info": {
   "codemirror_mode": {
    "name": "ipython",
    "version": 3
   },
   "file_extension": ".py",
   "mimetype": "text/x-python",
   "name": "python",
   "nbconvert_exporter": "python",
   "pygments_lexer": "ipython3",
   "version": "3.8.3"
  }
 },
 "nbformat": 4,
 "nbformat_minor": 4
}
