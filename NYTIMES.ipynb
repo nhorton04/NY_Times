{
 "cells": [
  {
   "cell_type": "code",
   "execution_count": 45,
   "metadata": {},
   "outputs": [],
   "source": [
    "# To store data\n",
    "import pandas as pd\n",
    "\n",
    "# To do linear algebra\n",
    "import numpy as np\n",
    "\n",
    "# To create models\n",
    "from sklearn.decomposition import LatentDirichletAllocation\n",
    "from gensim.models.ldamulticore import LdaMulticore\n",
    "from gensim.models import LdaModel, CoherenceModel\n",
    "from gensim import corpora\n",
    "\n",
    "# To search directories\n",
    "import os\n",
    "\n",
    "# To use regex\n",
    "import re\n",
    "\n",
    "# To get punctuation\n",
    "import string\n",
    "\n",
    "# To parse html\n",
    "from bs4 import BeautifulSoup\n",
    "\n",
    "# To get progression bars\n",
    "from tqdm import tqdm\n",
    "\n",
    "# To measure time\n",
    "from time import time\n",
    "\n",
    "# To get simple counters\n",
    "from collections import Counter\n",
    "\n",
    "# To process natural language\n",
    "from nltk.corpus import stopwords\n",
    "from nltk.tokenize import RegexpTokenizer\n",
    "\n",
    "import nltk\n",
    "\n",
    "# To use sparse matrices\n",
    "from scipy.sparse import csr_matrix\n",
    "\n",
    "# To create plots\n",
    "import matplotlib.pyplot as plt"
   ]
  },
  {
   "cell_type": "code",
   "execution_count": 46,
   "metadata": {},
   "outputs": [
    {
     "data": {
      "text/plain": [
       "1214"
      ]
     },
     "execution_count": 46,
     "metadata": {},
     "output_type": "execute_result"
    }
   ],
   "source": [
    "curr_dir = '/home/nick/Documents/NYT/'\n",
    "all_headlines = []\n",
    "for filename in os.listdir('/home/nick/Documents/NYT/'):\n",
    "    if 'Articles' in filename:\n",
    "        article_df = pd.read_csv(curr_dir + filename)\n",
    "        all_headlines.extend(list(article_df.headline.values))\n",
    "        break\n",
    "\n",
    "all_headlines = [h for h in all_headlines if h != \"Unknown\"]\n",
    "len(all_headlines)"
   ]
  },
  {
   "cell_type": "code",
   "execution_count": 47,
   "metadata": {},
   "outputs": [
    {
     "name": "stdout",
     "output_type": "stream",
     "text": [
      "Loaded Comments: 243832\n"
     ]
    }
   ],
   "source": [
    "# Path to the data\n",
    "path = '/home/nick/Documents/NYT/'\n",
    "\n",
    "# Create file lists\n",
    "files_comments = [os.path.join(path, file) for file in os.listdir(path) if file.startswith('C')]\n",
    "files_articles = [os.path.join(path, file) for file in os.listdir(path) if file.startswith('A')]\n",
    "\n",
    "# Load data\n",
    "comments = []\n",
    "for file in files_comments[:1]:\n",
    "    comments.extend(pd.read_csv(file, low_memory=False)['commentBody'].dropna().values)\n",
    "    \n",
    "print('Loaded Comments: {}'.format(len(comments)))"
   ]
  },
  {
   "cell_type": "code",
   "execution_count": 48,
   "metadata": {},
   "outputs": [
    {
     "name": "stdout",
     "output_type": "stream",
     "text": [
      "showing info https://raw.githubusercontent.com/nltk/nltk_data/gh-pages/index.xml\n"
     ]
    },
    {
     "name": "stderr",
     "output_type": "stream",
     "text": [
      "100%|██████████| 5000/5000 [00:01<00:00, 3667.35it/s]\n",
      "2020-08-08 23:07:22,522 : INFO : adding document #0 to Dictionary(0 unique tokens: [])\n",
      "2020-08-08 23:07:22,640 : INFO : built Dictionary(5101 unique tokens: ['10', '100', '3', '5', 'aging']...) from 5000 documents (total 158222 corpus positions)\n"
     ]
    },
    {
     "name": "stdout",
     "output_type": "stream",
     "text": [
      "Unique Words In Comments: 22035\n",
      "Documents/Comments: 5000\n",
      "Train Shape:\t(5000, 5101)\n"
     ]
    }
   ],
   "source": [
    "nltk.download()\n",
    "\n",
    "# Number of comments to use in the LDA\n",
    "n = 5000\n",
    "\n",
    "# To remove punctuation\n",
    "re_punctuation = re.compile('['+string.punctuation+']')\n",
    "\n",
    "# To tokenize the comments\n",
    "tokenizer = RegexpTokenizer('\\w+')\n",
    "\n",
    "# Get stopwords\n",
    "stop = stopwords.words('english')\n",
    "\n",
    "\n",
    "# Iterate over all comments\n",
    "preprocessed_comments = []\n",
    "for comment in tqdm(np.random.choice(comments, n)):\n",
    "    # Remove html\n",
    "    comment = BeautifulSoup(comment, 'lxml').get_text().lower()\n",
    "    \n",
    "    # Remove punctuation\n",
    "    comment = re_punctuation.sub(' ', comment)\n",
    "    \n",
    "    # Tokenize comments\n",
    "    comment = tokenizer.tokenize(comment)\n",
    "    \n",
    "    # Remove stopwords\n",
    "    comment = [word for word in comment if word not in stop]\n",
    "    preprocessed_comments.append(comment)\n",
    "    \n",
    "    \n",
    "# Count overall word frequency\n",
    "wordFrequency = Counter()\n",
    "for comment in preprocessed_comments:\n",
    "    wordFrequency.update(comment)\n",
    "print('Unique Words In Comments: {}'.format(len(wordFrequency)))\n",
    "\n",
    "\n",
    "# Remove rare words\n",
    "minimumWordOccurrences = 5\n",
    "texts = [[word for word in comment if wordFrequency[word] > minimumWordOccurrences] for comment in preprocessed_comments]\n",
    "\n",
    "\n",
    "# Create word dictionary\n",
    "dictionary = corpora.Dictionary(texts)\n",
    "vocabulary = [dictionary[i] for i in dictionary.keys()]\n",
    "print('Documents/Comments: {}'.format(len(texts)))\n",
    "\n",
    "\n",
    "# Create corpus\n",
    "corpus = [dictionary.doc2bow(doc) for doc in texts]\n",
    "\n",
    "\n",
    "# Create sparse matrix\n",
    "def makesparse(mycorpus, ncolumns):\n",
    "    data, row, col = [], [], []\n",
    "    for cc, doc in enumerate(mycorpus):\n",
    "        for word in doc:\n",
    "            row.append(cc)\n",
    "            col.append(word[0])\n",
    "            data.append(word[1])\n",
    "    X = csr_matrix((np.array(data), (np.array(row), np.array(col))), shape=(cc+1, ncolumns))\n",
    "    return X\n",
    "\n",
    "\n",
    "# Create sparse matrix\n",
    "X = makesparse(corpus, len(dictionary))\n",
    "print('Train Shape:\\t{}'.format(X.shape))"
   ]
  },
  {
   "cell_type": "markdown",
   "metadata": {},
   "source": [
    "\\* Note: I got this code from https://www.kaggle.com/morrisb/compare-lda-topic-modeling-in-sklearn-and-gensim"
   ]
  },
  {
   "cell_type": "code",
   "execution_count": null,
   "metadata": {},
   "outputs": [],
   "source": []
  }
 ],
 "metadata": {
  "kernelspec": {
   "display_name": "Python 3",
   "language": "python",
   "name": "python3"
  },
  "language_info": {
   "codemirror_mode": {
    "name": "ipython",
    "version": 3
   },
   "file_extension": ".py",
   "mimetype": "text/x-python",
   "name": "python",
   "nbconvert_exporter": "python",
   "pygments_lexer": "ipython3",
   "version": "3.8.3"
  }
 },
 "nbformat": 4,
 "nbformat_minor": 4
}
